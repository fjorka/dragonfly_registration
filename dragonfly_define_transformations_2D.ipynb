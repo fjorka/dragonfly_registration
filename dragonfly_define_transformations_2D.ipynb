{
 "cells": [
  {
   "cell_type": "code",
   "execution_count": 1,
   "id": "ed48c058",
   "metadata": {},
   "outputs": [],
   "source": [
    "import os\n",
    "import h5py\n",
    "import pickle\n",
    "import numpy as np\n",
    "import napari\n",
    "from datetime import date\n",
    "from skimage import morphology\n",
    "from skimage.filters import gaussian\n",
    "from skimage.exposure import rescale_intensity\n",
    "from skimage.transform import resize\n",
    "from pystackreg import StackReg\n",
    "from scipy import ndimage as ndi\n",
    "from scipy.stats import zscore"
   ]
  },
  {
   "cell_type": "code",
   "execution_count": 2,
   "id": "bbc4a7d3",
   "metadata": {},
   "outputs": [],
   "source": [
    "def matrix_rc2xy(affine_matrix):\n",
    "    swapped_cols = affine_matrix[:, [1, 0, 2]]\n",
    "    swapped_rows = swapped_cols[[1, 0, 2], :]\n",
    "    return swapped_rows\n",
    "\n",
    "\n",
    "def find_translation(source,destination):\n",
    "    \n",
    "    sr = StackReg(StackReg.TRANSLATION)\n",
    "    tmat = sr.register(destination,source)\n",
    "    \n",
    "    tmat = matrix_rc2xy(tmat)\n",
    "    \n",
    "    return tmat\n",
    "\n",
    "def find_scaled_rotation(source,destination):\n",
    "    \n",
    "    sr = StackReg(StackReg.SCALED_ROTATION)\n",
    "    tmat = sr.register(destination,source)\n",
    "    \n",
    "    tmat = matrix_rc2xy(tmat)\n",
    "\n",
    "    return tmat"
   ]
  },
  {
   "cell_type": "code",
   "execution_count": 3,
   "id": "0a10ffd1",
   "metadata": {},
   "outputs": [
    {
     "data": {
      "text/plain": [
       "'20220815'"
      ]
     },
     "execution_count": 3,
     "metadata": {},
     "output_type": "execute_result"
    }
   ],
   "source": [
    "# check date\n",
    "\n",
    "today = date.today()\n",
    "today = today.strftime(\"%Y%m%d\")\n",
    "today"
   ]
  },
  {
   "cell_type": "code",
   "execution_count": 4,
   "id": "e3e35604",
   "metadata": {},
   "outputs": [
    {
     "data": {
      "text/plain": [
       "'20220815_2D_zyla_5x_63x_fr_g'"
      ]
     },
     "execution_count": 4,
     "metadata": {},
     "output_type": "execute_result"
    }
   ],
   "source": [
    "im_path = r'W:\\Users\\kmkedz\\Dragonfly PSFs\\Dual Cam\\DualCamPSF G-FR 63X 1-5Xmag_2022-04-25_12.02.32_single_frame.ims' \n",
    "\n",
    "save_dir = r'W:\\Users\\kmkedz\\Dragonfly PSFs'\n",
    "save_file = f'{today}_2D_zyla_5x_63x_fr_g' #f'{today}_MSL_zyla_20x'\n",
    "save_file"
   ]
  },
  {
   "cell_type": "code",
   "execution_count": 5,
   "id": "8f1d5efa",
   "metadata": {},
   "outputs": [],
   "source": [
    "channel_names = ['ch_488','ch_637']\n",
    "vis_colors = ['green','magenta']#['magenta','red','green','blue'] #\n",
    "\n",
    "ch_num = len(channel_names)"
   ]
  },
  {
   "cell_type": "markdown",
   "id": "bfda6e04",
   "metadata": {},
   "source": [
    "## Read handles to stacks"
   ]
  },
  {
   "cell_type": "code",
   "execution_count": 6,
   "id": "5ce0c4e4",
   "metadata": {},
   "outputs": [],
   "source": [
    "f = h5py.File(im_path,'r')"
   ]
  },
  {
   "cell_type": "code",
   "execution_count": 7,
   "id": "25cba01c",
   "metadata": {},
   "outputs": [
    {
     "name": "stdout",
     "output_type": "stream",
     "text": [
      "Dimensions of the selected stack: (1, 1024, 1024)\n"
     ]
    }
   ],
   "source": [
    "for i in range(ch_num):\n",
    "\n",
    "    stack = f['DataSet']['ResolutionLevel 0']['TimePoint 0'][f'Channel {i}']['Data']\n",
    "    exec(\"stack_\"+channel_names[i]+\"= stack\")\n",
    "    \n",
    "if (len(stack.shape) == 2) or (stack.shape[0] == 1):\n",
    "    \n",
    "    print(f'Dimensions of the selected stack: {stack.shape}')\n",
    "\n",
    "else:\n",
    "    \n",
    "    print(f'Warning - only 2D transformation will be calculated!!!!')"
   ]
  },
  {
   "cell_type": "markdown",
   "id": "e9667f44",
   "metadata": {},
   "source": [
    "## Alignment in xy"
   ]
  },
  {
   "cell_type": "code",
   "execution_count": 8,
   "id": "c7dd16dc",
   "metadata": {},
   "outputs": [],
   "source": [
    "# make projection in xy\n",
    "\n",
    "pos = 50\n",
    "rad = 30\n",
    "\n",
    "for i in range(ch_num):\n",
    "    \n",
    "    exec(\"stack = stack_\"+channel_names[i])\n",
    "    \n",
    "    if (len(stack.shape) == 2) or (stack.shape[0] == 1):\n",
    "        \n",
    "        xy = np.squeeze(stack)\n",
    "        \n",
    "    else:\n",
    "    \n",
    "        xy = np.max(stack[pos-rad:pos+rad,:,:],axis=0)\n",
    "    \n",
    "    exec(\"xy_\"+channel_names[i]+\"= xy\")"
   ]
  },
  {
   "cell_type": "code",
   "execution_count": 9,
   "id": "185a3818",
   "metadata": {},
   "outputs": [],
   "source": [
    "# processing of xy images\n",
    "\n",
    "sigma = 2\n",
    "footprint = morphology.disk(3)\n",
    "\n",
    "xy_list = []\n",
    "\n",
    "for i in range(ch_num):\n",
    "    \n",
    "    exec(\"xy = xy_\"+channel_names[i])\n",
    "    \n",
    "    xy = morphology.white_tophat(xy, footprint)\n",
    "    xy = gaussian(xy, sigma)\n",
    "    \n",
    "    # normalize\n",
    "    xy = zscore(xy,axis=None)\n",
    "    \n",
    "    xy_list.append(xy)\n",
    "    \n",
    "    exec(\"xy_\"+channel_names[i]+\"= xy\")"
   ]
  },
  {
   "cell_type": "code",
   "execution_count": 10,
   "id": "198a61a3",
   "metadata": {},
   "outputs": [],
   "source": [
    "# visualize original xy data\n",
    "\n",
    "viewer = napari.Viewer()\n",
    "\n",
    "for i in range(ch_num):\n",
    "    \n",
    "    exec(\"im = xy_\"+channel_names[i])\n",
    "    viewer.add_image(im,blending='additive',colormap=vis_colors[i],name = channel_names[i])"
   ]
  },
  {
   "cell_type": "code",
   "execution_count": 11,
   "id": "80ef9735",
   "metadata": {},
   "outputs": [],
   "source": [
    "# alignment in xy plane\n",
    "\n",
    "destination = xy_list[0]\n",
    "\n",
    "tmat_xy_list = []\n",
    "\n",
    "for i in range(ch_num):\n",
    "    \n",
    "    exec(\"source = xy_\"+channel_names[i])\n",
    "    \n",
    "    tmat = find_scaled_rotation(source,destination)\n",
    "    \n",
    "    ch_aligned = ndi.affine_transform(source, tmat)\n",
    "    \n",
    "    exec(\"xy_\"+channel_names[i]+\"_aligned = ch_aligned\")\n",
    "    \n",
    "    tmat_xy_list.append(tmat)\n"
   ]
  },
  {
   "cell_type": "code",
   "execution_count": 12,
   "id": "a6ad3e27",
   "metadata": {},
   "outputs": [],
   "source": [
    "# check the alignment in xy\n",
    "\n",
    "s_fact = 99.99\n",
    "\n",
    "viewer = napari.Viewer()\n",
    "\n",
    "for i in range(ch_num):\n",
    "    \n",
    "    exec(\"im = xy_\"+channel_names[i]+\"_aligned\")\n",
    "    viewer.add_image(im,blending='additive',colormap=vis_colors[i],contrast_limits=(0,np.percentile(im,s_fact)),\n",
    "                    name = channel_names[i])"
   ]
  },
  {
   "cell_type": "markdown",
   "id": "1de9809a",
   "metadata": {},
   "source": [
    "## Save transformations"
   ]
  },
  {
   "cell_type": "code",
   "execution_count": 13,
   "id": "01393b1b",
   "metadata": {},
   "outputs": [],
   "source": [
    "with open(os.path.join(save_dir,save_file+'.pkl'),\"wb\") as f:\n",
    "    pickle.dump([channel_names,tmat_xy_list],f)\n",
    "\n",
    "\n",
    "with open(os.path.join(save_dir,save_file+'.txt'), \"w\") as f:\n",
    "    \n",
    "    f.write(f'Alignment calculated {today}.')\n",
    "    f.write('\\n')\n",
    "    f.write('\\n')\n",
    "    \n",
    "    f.write(f'Channels:')\n",
    "    f.write('\\n')\n",
    "    f.write('\\n')\n",
    "\n",
    "    for tmat in channel_names:\n",
    "        f.write(tmat)\n",
    "        f.write('\\n')\n",
    "\n",
    "        \n",
    "    f.write('\\n')\n",
    "    f.write(f'Alignment in xy:')\n",
    "    f.write('\\n')\n",
    "    f.write('\\n')\n",
    "\n",
    "    for tmat in tmat_xy_list:\n",
    "        np.savetxt(f, tmat, delimiter=',')\n",
    "        f.write('\\n')"
   ]
  },
  {
   "cell_type": "code",
   "execution_count": null,
   "id": "31b544cd",
   "metadata": {},
   "outputs": [],
   "source": []
  }
 ],
 "metadata": {
  "kernelspec": {
   "display_name": "Python 3 (ipykernel)",
   "language": "python",
   "name": "python3"
  },
  "language_info": {
   "codemirror_mode": {
    "name": "ipython",
    "version": 3
   },
   "file_extension": ".py",
   "mimetype": "text/x-python",
   "name": "python",
   "nbconvert_exporter": "python",
   "pygments_lexer": "ipython3",
   "version": "3.7.10"
  }
 },
 "nbformat": 4,
 "nbformat_minor": 5
}
