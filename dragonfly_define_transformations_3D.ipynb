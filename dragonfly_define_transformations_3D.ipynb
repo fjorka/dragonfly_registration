{
 "cells": [
  {
   "cell_type": "code",
   "execution_count": 2,
   "id": "ed48c058",
   "metadata": {},
   "outputs": [],
   "source": [
    "import os\n",
    "import h5py\n",
    "import pickle\n",
    "import numpy as np\n",
    "import napari\n",
    "from datetime import date\n",
    "from skimage import morphology\n",
    "from skimage.filters import gaussian\n",
    "from skimage.exposure import rescale_intensity\n",
    "from skimage.transform import resize\n",
    "from pystackreg import StackReg\n",
    "from scipy import ndimage as ndi\n",
    "from scipy.stats import zscore"
   ]
  },
  {
   "cell_type": "code",
   "execution_count": 3,
   "id": "bbc4a7d3",
   "metadata": {},
   "outputs": [],
   "source": [
    "def matrix_rc2xy(affine_matrix):\n",
    "    swapped_cols = affine_matrix[:, [1, 0, 2]]\n",
    "    swapped_rows = swapped_cols[[1, 0, 2], :]\n",
    "    return swapped_rows\n",
    "\n",
    "\n",
    "def find_translation(source,destination):\n",
    "    \n",
    "    sr = StackReg(StackReg.TRANSLATION)\n",
    "    tmat = sr.register(destination,source)\n",
    "    \n",
    "    tmat = matrix_rc2xy(tmat)\n",
    "    \n",
    "    return tmat\n",
    "\n",
    "def find_scaled_rotation(source,destination):\n",
    "    \n",
    "    sr = StackReg(StackReg.SCALED_ROTATION)\n",
    "    tmat = sr.register(destination,source)\n",
    "    \n",
    "    tmat = matrix_rc2xy(tmat)\n",
    "\n",
    "    return tmat"
   ]
  },
  {
   "cell_type": "code",
   "execution_count": 4,
   "id": "0a10ffd1",
   "metadata": {},
   "outputs": [
    {
     "data": {
      "text/plain": [
       "'20220815'"
      ]
     },
     "execution_count": 4,
     "metadata": {},
     "output_type": "execute_result"
    }
   ],
   "source": [
    "# check date\n",
    "\n",
    "today = date.today()\n",
    "today = today.strftime(\"%Y%m%d\")\n",
    "today"
   ]
  },
  {
   "cell_type": "code",
   "execution_count": 9,
   "id": "e3e35604",
   "metadata": {},
   "outputs": [
    {
     "data": {
      "text/plain": [
       "'20220815_3D_zyla_1x_63x_fr_r_g_b'"
      ]
     },
     "execution_count": 9,
     "metadata": {},
     "output_type": "execute_result"
    }
   ],
   "source": [
    "im_path = r'W:\\Users\\kmkedz\\Dragonfly PSFs\\Single cam example\\PSF_63X_1.0X_WF_Zyla_2022-02-17_09.55.03.ims' \n",
    "\n",
    "save_dir = r'W:\\Users\\kmkedz\\Dragonfly PSFs'\n",
    "save_file = f'{today}_3D_zyla_1x_63x_fr_r_g_b' #f'{today}_MSL_zyla_20x'\n",
    "save_file"
   ]
  },
  {
   "cell_type": "code",
   "execution_count": 6,
   "id": "8f1d5efa",
   "metadata": {},
   "outputs": [],
   "source": [
    "channel_names = ['ch_637','ch_561','ch_488','ch_405']\n",
    "vis_colors = ['magenta','red','green','blue'] #['green','magenta']#\n",
    "\n",
    "z_step = 99 #[nm]\n",
    "\n",
    "ch_num = len(channel_names)"
   ]
  },
  {
   "cell_type": "markdown",
   "id": "bfda6e04",
   "metadata": {},
   "source": [
    "## Read handles to stacks"
   ]
  },
  {
   "cell_type": "code",
   "execution_count": 7,
   "id": "5ce0c4e4",
   "metadata": {},
   "outputs": [],
   "source": [
    "f = h5py.File(im_path,'r')"
   ]
  },
  {
   "cell_type": "code",
   "execution_count": 8,
   "id": "25cba01c",
   "metadata": {},
   "outputs": [
    {
     "name": "stdout",
     "output_type": "stream",
     "text": [
      "Dimensions of the selected stack: (128, 2048, 2048)\n"
     ]
    }
   ],
   "source": [
    "for i in range(ch_num):\n",
    "\n",
    "    stack = f['DataSet']['ResolutionLevel 0']['TimePoint 0'][f'Channel {i}']['Data']\n",
    "    exec(\"stack_\"+channel_names[i]+\"= stack\")\n",
    "    \n",
    "if (len(stack.shape) > 2 and (stack.shape[0] > 1)):\n",
    "    \n",
    "    print(f'Dimensions of the selected stack: {stack.shape}')\n",
    "\n",
    "else:\n",
    "    \n",
    "    print(f'Warning - selected data set is 2D!!!!')"
   ]
  },
  {
   "cell_type": "markdown",
   "id": "29399eab",
   "metadata": {},
   "source": [
    "## Translation in z direction"
   ]
  },
  {
   "cell_type": "code",
   "execution_count": 107,
   "id": "ba983db6",
   "metadata": {},
   "outputs": [],
   "source": [
    "# make projection in zy\n",
    "# this may take a few minutes\n",
    "\n",
    "pos = 100\n",
    "rad = 20\n",
    "\n",
    "sigma = 3\n",
    "# how much is cut from the top and the bottom of yz projection\n",
    "margin = 10\n",
    "\n",
    "zy_list = []\n",
    "for i in range(ch_num):\n",
    "    \n",
    "    exec(\"stack = stack_\"+channel_names[i])\n",
    "    \n",
    "    zy = np.max(stack[margin:-margin,pos-rad:pos+rad,:],axis=1)\n",
    "    \n",
    "    zy = gaussian(zy, sigma,preserve_range=True)\n",
    "    \n",
    "    zy = zscore(zy,axis=None)\n",
    "    \n",
    "    zy_list.append(zy)\n",
    "    \n",
    "    exec(\"zy_\"+channel_names[i]+\"= zy\")"
   ]
  },
  {
   "cell_type": "code",
   "execution_count": 108,
   "id": "29d9d70b",
   "metadata": {
    "code_folding": []
   },
   "outputs": [
    {
     "name": "stderr",
     "output_type": "stream",
     "text": [
      "C:\\Users\\kmkedz\\.conda\\envs\\napari-tests\\lib\\site-packages\\napari_tools_menu\\__init__.py:168: FutureWarning: Public access to Window.qt_viewer is deprecated and will be removed in\n",
      "v0.5.0. It is considered an \"implementation detail\" of the napari\n",
      "application, not part of the napari viewer model. If your use case\n",
      "requires access to qt_viewer, please open an issue to discuss.\n",
      "  self.tools_menu = ToolsMenu(self, self.qt_viewer.viewer)\n"
     ]
    }
   ],
   "source": [
    "# visualize original\n",
    "\n",
    "viewer = napari.Viewer()\n",
    "\n",
    "for i in range(ch_num):\n",
    "    \n",
    "    exec(\"im = zy_\"+channel_names[i])\n",
    "    viewer.add_image(im,blending='additive',colormap=vis_colors[i],\n",
    "                    name = channel_names[i])"
   ]
  },
  {
   "cell_type": "code",
   "execution_count": 109,
   "id": "9b033cfc",
   "metadata": {},
   "outputs": [],
   "source": [
    "# alignement in yz plane\n",
    "\n",
    "destination = zy_list[0]\n",
    "\n",
    "tmat_z_list = []\n",
    "\n",
    "for i in range(ch_num):\n",
    "    \n",
    "    exec(\"source = zy_\"+channel_names[i])\n",
    "    \n",
    "    tmat = find_translation(source,destination)\n",
    "    \n",
    "    ch_aligned = ndi.affine_transform(source, tmat)\n",
    "    \n",
    "    exec(\"zy_\"+channel_names[i]+\"_aligned = ch_aligned\")\n",
    "    \n",
    "    tmat_z_list.append(tmat)"
   ]
  },
  {
   "cell_type": "code",
   "execution_count": 110,
   "id": "c467ed2d",
   "metadata": {},
   "outputs": [
    {
     "name": "stderr",
     "output_type": "stream",
     "text": [
      "C:\\Users\\kmkedz\\.conda\\envs\\napari-tests\\lib\\site-packages\\napari_tools_menu\\__init__.py:168: FutureWarning: Public access to Window.qt_viewer is deprecated and will be removed in\n",
      "v0.5.0. It is considered an \"implementation detail\" of the napari\n",
      "application, not part of the napari viewer model. If your use case\n",
      "requires access to qt_viewer, please open an issue to discuss.\n",
      "  self.tools_menu = ToolsMenu(self, self.qt_viewer.viewer)\n"
     ]
    }
   ],
   "source": [
    "# check the alignment in z\n",
    "\n",
    "viewer = napari.Viewer()\n",
    "\n",
    "for i in range(ch_num):\n",
    "    \n",
    "    exec(\"im = zy_\"+channel_names[i]+\"_aligned\")\n",
    "    viewer.add_image(im,blending='additive',colormap=vis_colors[i],\n",
    "                    name = channel_names[i])"
   ]
  },
  {
   "cell_type": "markdown",
   "id": "e9667f44",
   "metadata": {},
   "source": [
    "## Alignment in xy"
   ]
  },
  {
   "cell_type": "code",
   "execution_count": 111,
   "id": "c7dd16dc",
   "metadata": {},
   "outputs": [],
   "source": [
    "# make projection in xy\n",
    "\n",
    "pos = 50\n",
    "rad = 30\n",
    "\n",
    "for i in range(ch_num):\n",
    "    \n",
    "    exec(\"stack = stack_\"+channel_names[i])\n",
    "    \n",
    "    xy = np.max(stack[pos-rad:pos+rad,:,:],axis=0)\n",
    "    \n",
    "    exec(\"xy_\"+channel_names[i]+\"= xy\")"
   ]
  },
  {
   "cell_type": "code",
   "execution_count": 112,
   "id": "185a3818",
   "metadata": {},
   "outputs": [],
   "source": [
    "# processing of xy images\n",
    "\n",
    "sigma = 2\n",
    "footprint = morphology.disk(3)\n",
    "\n",
    "xy_list = []\n",
    "\n",
    "for i in range(ch_num):\n",
    "    \n",
    "    exec(\"xy = xy_\"+channel_names[i])\n",
    "    \n",
    "    xy = morphology.white_tophat(xy, footprint)\n",
    "    xy = gaussian(xy, sigma)\n",
    "    \n",
    "    # normalize\n",
    "    #xy = xy/np.percentile(xy,99.999)\n",
    "    xy = zscore(xy,axis=None)\n",
    "    \n",
    "    xy_list.append(xy)\n",
    "    \n",
    "    exec(\"xy_\"+channel_names[i]+\"= xy\")"
   ]
  },
  {
   "cell_type": "code",
   "execution_count": 113,
   "id": "b7407d5c",
   "metadata": {},
   "outputs": [],
   "source": [
    "# calculate reference image\n",
    "\n",
    "#xy_ref = np.mean(np.array(xy_list),axis=0)\n",
    "#xy_ref = xy_ref/np.percentile(xy_ref,99.999)"
   ]
  },
  {
   "cell_type": "code",
   "execution_count": 114,
   "id": "198a61a3",
   "metadata": {},
   "outputs": [
    {
     "name": "stderr",
     "output_type": "stream",
     "text": [
      "C:\\Users\\kmkedz\\.conda\\envs\\napari-tests\\lib\\site-packages\\napari_tools_menu\\__init__.py:168: FutureWarning: Public access to Window.qt_viewer is deprecated and will be removed in\n",
      "v0.5.0. It is considered an \"implementation detail\" of the napari\n",
      "application, not part of the napari viewer model. If your use case\n",
      "requires access to qt_viewer, please open an issue to discuss.\n",
      "  self.tools_menu = ToolsMenu(self, self.qt_viewer.viewer)\n"
     ]
    }
   ],
   "source": [
    "# visualize original xy data\n",
    "\n",
    "viewer = napari.Viewer()\n",
    "\n",
    "for i in range(ch_num):\n",
    "    \n",
    "    exec(\"im = xy_\"+channel_names[i])\n",
    "    viewer.add_image(im,blending='additive',colormap=vis_colors[i],name = channel_names[i])"
   ]
  },
  {
   "cell_type": "code",
   "execution_count": 115,
   "id": "80ef9735",
   "metadata": {},
   "outputs": [],
   "source": [
    "# alignment in xy plane\n",
    "\n",
    "destination = xy_list[0]\n",
    "\n",
    "tmat_xy_list = []\n",
    "\n",
    "for i in range(ch_num):\n",
    "    \n",
    "    exec(\"source = xy_\"+channel_names[i])\n",
    "    \n",
    "    tmat = find_scaled_rotation(source,destination)\n",
    "    \n",
    "    ch_aligned = ndi.affine_transform(source, tmat)\n",
    "    \n",
    "    exec(\"xy_\"+channel_names[i]+\"_aligned = ch_aligned\")\n",
    "    \n",
    "    tmat_xy_list.append(tmat)\n"
   ]
  },
  {
   "cell_type": "code",
   "execution_count": 116,
   "id": "a6ad3e27",
   "metadata": {},
   "outputs": [
    {
     "name": "stderr",
     "output_type": "stream",
     "text": [
      "C:\\Users\\kmkedz\\.conda\\envs\\napari-tests\\lib\\site-packages\\napari_tools_menu\\__init__.py:168: FutureWarning: Public access to Window.qt_viewer is deprecated and will be removed in\n",
      "v0.5.0. It is considered an \"implementation detail\" of the napari\n",
      "application, not part of the napari viewer model. If your use case\n",
      "requires access to qt_viewer, please open an issue to discuss.\n",
      "  self.tools_menu = ToolsMenu(self, self.qt_viewer.viewer)\n"
     ]
    }
   ],
   "source": [
    "# check the alignment in xy\n",
    "\n",
    "s_fact = 99.99\n",
    "\n",
    "viewer = napari.Viewer()\n",
    "\n",
    "for i in range(ch_num):\n",
    "    \n",
    "    exec(\"im = xy_\"+channel_names[i]+\"_aligned\")\n",
    "    viewer.add_image(im,blending='additive',colormap=vis_colors[i],contrast_limits=(0,np.percentile(im,s_fact)),\n",
    "                    name = channel_names[i])"
   ]
  },
  {
   "cell_type": "markdown",
   "id": "143106e9",
   "metadata": {},
   "source": [
    "## Combine into 2.5D transformation"
   ]
  },
  {
   "cell_type": "code",
   "execution_count": 117,
   "id": "171d7723",
   "metadata": {},
   "outputs": [],
   "source": [
    "# create transformations 3D\n",
    "\n",
    "tmat_xyz = []\n",
    "\n",
    "for tmat_xy,tmat_z in zip(tmat_xy_list,tmat_z_list):\n",
    "   \n",
    "    tmat = np.zeros([4,4])\n",
    "    \n",
    "    tmat[:2,:2] = tmat_xy[:2,:2]\n",
    "    tmat[:2,3] = tmat_xy[:2,2]\n",
    "    tmat[2,2] = 1\n",
    "    tmat[2,3] = tmat_z[0,2]\n",
    "    tmat[3,3] = 1\n",
    "    \n",
    "    tmat_xyz.append(tmat)"
   ]
  },
  {
   "cell_type": "markdown",
   "id": "1de9809a",
   "metadata": {},
   "source": [
    "## Save transformations"
   ]
  },
  {
   "cell_type": "code",
   "execution_count": 118,
   "id": "01393b1b",
   "metadata": {},
   "outputs": [],
   "source": [
    "with open(os.path.join(save_dir,save_file+'.pkl'),\"wb\") as f:\n",
    "    pickle.dump([channel_names,tmat_z_list,tmat_xy_list,tmat_xyz,z_step],f)\n",
    "\n",
    "\n",
    "with open(os.path.join(save_dir,save_file+'.txt'), \"w\") as f:\n",
    "    \n",
    "    f.write(f'Alignment calculated {today}.')\n",
    "    f.write('\\n')\n",
    "    f.write('\\n')\n",
    "    \n",
    "    f.write(f'Channels:')\n",
    "    f.write('\\n')\n",
    "    f.write('\\n')\n",
    "\n",
    "    for tmat in channel_names:\n",
    "        f.write(tmat)\n",
    "        f.write('\\n')\n",
    "    \n",
    "    f.write('\\n')\n",
    "    f.write(f'Alignment in z:')\n",
    "    f.write('\\n')\n",
    "    f.write('\\n')\n",
    "\n",
    "    for tmat in tmat_z_list:\n",
    "        np.savetxt(f, tmat, delimiter=',')\n",
    "        f.write('\\n')\n",
    "        \n",
    "    f.write('\\n')\n",
    "    f.write(f'Step in z:')\n",
    "    f.write('\\n')\n",
    "    f.write('\\n')\n",
    "    f.write(str(z_step))\n",
    "    f.write('\\n')\n",
    "\n",
    "        \n",
    "    f.write('\\n')\n",
    "    f.write(f'Alignment in xy:')\n",
    "    f.write('\\n')\n",
    "    f.write('\\n')\n",
    "\n",
    "    for tmat in tmat_xy_list:\n",
    "        np.savetxt(f, tmat, delimiter=',')\n",
    "        f.write('\\n')\n",
    "        \n",
    "    f.write('\\n')\n",
    "    f.write(f'Alignment in xyz (2.5D):')\n",
    "    f.write('\\n')\n",
    "    f.write('\\n')\n",
    "\n",
    "    for tmat in tmat_xyz:\n",
    "        np.savetxt(f, tmat, delimiter=',')\n",
    "        f.write('\\n')"
   ]
  },
  {
   "cell_type": "code",
   "execution_count": null,
   "id": "8887bfa7",
   "metadata": {},
   "outputs": [],
   "source": []
  }
 ],
 "metadata": {
  "kernelspec": {
   "display_name": "Python 3 (ipykernel)",
   "language": "python",
   "name": "python3"
  },
  "language_info": {
   "codemirror_mode": {
    "name": "ipython",
    "version": 3
   },
   "file_extension": ".py",
   "mimetype": "text/x-python",
   "name": "python",
   "nbconvert_exporter": "python",
   "pygments_lexer": "ipython3",
   "version": "3.7.10"
  }
 },
 "nbformat": 4,
 "nbformat_minor": 5
}
